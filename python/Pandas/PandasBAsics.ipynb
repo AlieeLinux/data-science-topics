{
 "cells": [
  {
   "cell_type": "code",
   "execution_count": 1,
   "id": "57144eb7-4f3a-48a8-81d4-73ad79113b77",
   "metadata": {},
   "outputs": [],
   "source": [
    "import pandas"
   ]
  },
  {
   "cell_type": "code",
   "execution_count": 2,
   "id": "c2e6b124-0e02-47b3-900c-9b8f93391de0",
   "metadata": {},
   "outputs": [],
   "source": [
    "import numpy"
   ]
  },
  {
   "cell_type": "code",
   "execution_count": null,
   "id": "6cb86189-ebba-431c-9e58-d229b660b392",
   "metadata": {},
   "outputs": [],
   "source": []
  },
  {
   "cell_type": "code",
   "execution_count": 3,
   "id": "b73cf4a6-fa17-4e1c-8974-9106dc21405c",
   "metadata": {},
   "outputs": [],
   "source": [
    "DataFrame = pandas.read_csv(\"currencybroken.csv\")"
   ]
  },
  {
   "cell_type": "code",
   "execution_count": null,
   "id": "c916b0fe-fb0a-4a2a-8845-d616d0a4e64b",
   "metadata": {},
   "outputs": [],
   "source": []
  },
  {
   "cell_type": "code",
   "execution_count": 4,
   "id": "3cd313ba-de18-48d8-889c-6f91383c8130",
   "metadata": {},
   "outputs": [
    {
     "data": {
      "text/html": [
       "<div>\n",
       "<style scoped>\n",
       "    .dataframe tbody tr th:only-of-type {\n",
       "        vertical-align: middle;\n",
       "    }\n",
       "\n",
       "    .dataframe tbody tr th {\n",
       "        vertical-align: top;\n",
       "    }\n",
       "\n",
       "    .dataframe thead th {\n",
       "        text-align: right;\n",
       "    }\n",
       "</style>\n",
       "<table border=\"1\" class=\"dataframe\">\n",
       "  <thead>\n",
       "    <tr style=\"text-align: right;\">\n",
       "      <th></th>\n",
       "      <th>Code</th>\n",
       "      <th>Symbol</th>\n",
       "      <th>Name</th>\n",
       "    </tr>\n",
       "  </thead>\n",
       "  <tbody>\n",
       "    <tr>\n",
       "      <th>0</th>\n",
       "      <td>AED</td>\n",
       "      <td>د.إ</td>\n",
       "      <td>United Arab Emirates d</td>\n",
       "    </tr>\n",
       "    <tr>\n",
       "      <th>1</th>\n",
       "      <td>AFN</td>\n",
       "      <td>؋</td>\n",
       "      <td>Afghan afghani</td>\n",
       "    </tr>\n",
       "    <tr>\n",
       "      <th>2</th>\n",
       "      <td>ALL</td>\n",
       "      <td>L</td>\n",
       "      <td>Albanian lek</td>\n",
       "    </tr>\n",
       "    <tr>\n",
       "      <th>3</th>\n",
       "      <td>AMD</td>\n",
       "      <td>NaN</td>\n",
       "      <td>Armenian dram</td>\n",
       "    </tr>\n",
       "    <tr>\n",
       "      <th>4</th>\n",
       "      <td>ANG</td>\n",
       "      <td>ƒ</td>\n",
       "      <td>Netherlands Antillean gu</td>\n",
       "    </tr>\n",
       "    <tr>\n",
       "      <th>...</th>\n",
       "      <td>...</td>\n",
       "      <td>...</td>\n",
       "      <td>...</td>\n",
       "    </tr>\n",
       "    <tr>\n",
       "      <th>158</th>\n",
       "      <td>XOF</td>\n",
       "      <td>CFA</td>\n",
       "      <td>West African CFA franc</td>\n",
       "    </tr>\n",
       "    <tr>\n",
       "      <th>159</th>\n",
       "      <td>XPF</td>\n",
       "      <td>Fr</td>\n",
       "      <td>CFP franc</td>\n",
       "    </tr>\n",
       "    <tr>\n",
       "      <th>160</th>\n",
       "      <td>YER</td>\n",
       "      <td>﷼</td>\n",
       "      <td>Yemeni rial</td>\n",
       "    </tr>\n",
       "    <tr>\n",
       "      <th>161</th>\n",
       "      <td>ZAR</td>\n",
       "      <td>R</td>\n",
       "      <td>South African rand</td>\n",
       "    </tr>\n",
       "    <tr>\n",
       "      <th>162</th>\n",
       "      <td>ZMW</td>\n",
       "      <td>ZK</td>\n",
       "      <td>Zambian kwacha</td>\n",
       "    </tr>\n",
       "  </tbody>\n",
       "</table>\n",
       "<p>163 rows × 3 columns</p>\n",
       "</div>"
      ],
      "text/plain": [
       "    Code Symbol                      Name\n",
       "0    AED    د.إ    United Arab Emirates d\n",
       "1    AFN      ؋            Afghan afghani\n",
       "2    ALL      L              Albanian lek\n",
       "3    AMD    NaN             Armenian dram\n",
       "4    ANG      ƒ  Netherlands Antillean gu\n",
       "..   ...    ...                       ...\n",
       "158  XOF    CFA    West African CFA franc\n",
       "159  XPF     Fr                 CFP franc\n",
       "160  YER      ﷼               Yemeni rial\n",
       "161  ZAR      R        South African rand\n",
       "162  ZMW     ZK            Zambian kwacha\n",
       "\n",
       "[163 rows x 3 columns]"
      ]
     },
     "execution_count": 4,
     "metadata": {},
     "output_type": "execute_result"
    }
   ],
   "source": [
    "DataFrame"
   ]
  },
  {
   "cell_type": "code",
   "execution_count": 8,
   "id": "9515e8e8-473f-4f08-bbbc-3237eea3baa1",
   "metadata": {},
   "outputs": [],
   "source": [
    "sec = 0"
   ]
  },
  {
   "cell_type": "code",
   "execution_count": null,
   "id": "c9054561-9c42-41a4-9d4e-80c20ceb9f6c",
   "metadata": {},
   "outputs": [],
   "source": [
    "for i in DataFrame['Symbol']:\n",
    "    sec += 1\n",
    "    if i == \"NaN\":"
   ]
  },
  {
   "cell_type": "code",
   "execution_count": null,
   "id": "03efa507-71ce-468b-800d-c8d1bc27beed",
   "metadata": {},
   "outputs": [],
   "source": []
  },
  {
   "cell_type": "code",
   "execution_count": 11,
   "id": "e3c38ed7-4118-4c98-9c89-5f1a727c36cf",
   "metadata": {},
   "outputs": [
    {
     "data": {
      "text/plain": [
       "'ZK'"
      ]
     },
     "execution_count": 11,
     "metadata": {},
     "output_type": "execute_result"
    }
   ],
   "source": [
    "DataFrame['Symbol'][162]"
   ]
  },
  {
   "cell_type": "code",
   "execution_count": null,
   "id": "700cff2f-ec0a-4ce9-8726-65bc7a3168ff",
   "metadata": {},
   "outputs": [],
   "source": []
  },
  {
   "cell_type": "code",
   "execution_count": null,
   "id": "b1854bac-2a80-4360-98f6-780c45628703",
   "metadata": {},
   "outputs": [],
   "source": []
  }
 ],
 "metadata": {
  "kernelspec": {
   "display_name": "Python 3 (ipykernel)",
   "language": "python",
   "name": "python3"
  },
  "language_info": {
   "codemirror_mode": {
    "name": "ipython",
    "version": 3
   },
   "file_extension": ".py",
   "mimetype": "text/x-python",
   "name": "python",
   "nbconvert_exporter": "python",
   "pygments_lexer": "ipython3",
   "version": "3.13.2"
  }
 },
 "nbformat": 4,
 "nbformat_minor": 5
}
