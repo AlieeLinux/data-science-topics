{
 "cells": [
  {
   "cell_type": "code",
   "execution_count": 1,
   "id": "1cadf3ac-e0e3-47cb-855d-531046ccbb5c",
   "metadata": {},
   "outputs": [],
   "source": [
    "import pandas"
   ]
  },
  {
   "cell_type": "code",
   "execution_count": null,
   "id": "b87e312b-8522-4f14-98ad-2906936c155a",
   "metadata": {},
   "outputs": [],
   "source": []
  },
  {
   "cell_type": "code",
   "execution_count": 2,
   "id": "687bce39-9ff7-4bd5-bf25-c9350bad2435",
   "metadata": {},
   "outputs": [],
   "source": [
    "DataF = pandas.read_csv(\"plays.csv\")"
   ]
  },
  {
   "cell_type": "code",
   "execution_count": null,
   "id": "ed2d6807-0836-4b8b-b35b-5ec37903d6cd",
   "metadata": {},
   "outputs": [],
   "source": []
  },
  {
   "cell_type": "code",
   "execution_count": 3,
   "id": "8a068dd9-049c-4474-8693-e7d4fab98dd0",
   "metadata": {},
   "outputs": [
    {
     "data": {
      "text/html": [
       "<div>\n",
       "<style scoped>\n",
       "    .dataframe tbody tr th:only-of-type {\n",
       "        vertical-align: middle;\n",
       "    }\n",
       "\n",
       "    .dataframe tbody tr th {\n",
       "        vertical-align: top;\n",
       "    }\n",
       "\n",
       "    .dataframe thead th {\n",
       "        text-align: right;\n",
       "    }\n",
       "</style>\n",
       "<table border=\"1\" class=\"dataframe\">\n",
       "  <thead>\n",
       "    <tr style=\"text-align: right;\">\n",
       "      <th></th>\n",
       "      <th>user_id</th>\n",
       "      <th>platform</th>\n",
       "      <th>asset_id</th>\n",
       "      <th>minutes_viewed</th>\n",
       "    </tr>\n",
       "  </thead>\n",
       "  <tbody>\n",
       "    <tr>\n",
       "      <th>0</th>\n",
       "      <td>764504178919</td>\n",
       "      <td>android</td>\n",
       "      <td>13758</td>\n",
       "      <td>28</td>\n",
       "    </tr>\n",
       "    <tr>\n",
       "      <th>1</th>\n",
       "      <td>412316860611</td>\n",
       "      <td>android</td>\n",
       "      <td>13825</td>\n",
       "      <td>28</td>\n",
       "    </tr>\n",
       "    <tr>\n",
       "      <th>2</th>\n",
       "      <td>1503238553613</td>\n",
       "      <td>iOS</td>\n",
       "      <td>93</td>\n",
       "      <td>105</td>\n",
       "    </tr>\n",
       "    <tr>\n",
       "      <th>3</th>\n",
       "      <td>489626272003</td>\n",
       "      <td>android</td>\n",
       "      <td>6226</td>\n",
       "      <td>7</td>\n",
       "    </tr>\n",
       "    <tr>\n",
       "      <th>4</th>\n",
       "      <td>68719476744</td>\n",
       "      <td>android</td>\n",
       "      <td>3762</td>\n",
       "      <td>1</td>\n",
       "    </tr>\n",
       "    <tr>\n",
       "      <th>...</th>\n",
       "      <td>...</td>\n",
       "      <td>...</td>\n",
       "      <td>...</td>\n",
       "      <td>...</td>\n",
       "    </tr>\n",
       "    <tr>\n",
       "      <th>542152</th>\n",
       "      <td>1331439861936</td>\n",
       "      <td>android</td>\n",
       "      <td>14936</td>\n",
       "      <td>0</td>\n",
       "    </tr>\n",
       "    <tr>\n",
       "      <th>542153</th>\n",
       "      <td>1675037245707</td>\n",
       "      <td>iOS</td>\n",
       "      <td>7959</td>\n",
       "      <td>7</td>\n",
       "    </tr>\n",
       "    <tr>\n",
       "      <th>542154</th>\n",
       "      <td>489626272310</td>\n",
       "      <td>android</td>\n",
       "      <td>384</td>\n",
       "      <td>17</td>\n",
       "    </tr>\n",
       "    <tr>\n",
       "      <th>542155</th>\n",
       "      <td>618475290625</td>\n",
       "      <td>android-tv</td>\n",
       "      <td>15487</td>\n",
       "      <td>0</td>\n",
       "    </tr>\n",
       "    <tr>\n",
       "      <th>542156</th>\n",
       "      <td>42949673483</td>\n",
       "      <td>iOS</td>\n",
       "      <td>16857</td>\n",
       "      <td>108</td>\n",
       "    </tr>\n",
       "  </tbody>\n",
       "</table>\n",
       "<p>542157 rows × 4 columns</p>\n",
       "</div>"
      ],
      "text/plain": [
       "              user_id    platform  asset_id  minutes_viewed\n",
       "0        764504178919     android     13758              28\n",
       "1        412316860611     android     13825              28\n",
       "2       1503238553613         iOS        93             105\n",
       "3        489626272003     android      6226               7\n",
       "4         68719476744     android      3762               1\n",
       "...               ...         ...       ...             ...\n",
       "542152  1331439861936     android     14936               0\n",
       "542153  1675037245707         iOS      7959               7\n",
       "542154   489626272310     android       384              17\n",
       "542155   618475290625  android-tv     15487               0\n",
       "542156    42949673483         iOS     16857             108\n",
       "\n",
       "[542157 rows x 4 columns]"
      ]
     },
     "execution_count": 3,
     "metadata": {},
     "output_type": "execute_result"
    }
   ],
   "source": [
    "DataF"
   ]
  },
  {
   "cell_type": "code",
   "execution_count": null,
   "id": "1451564d-defb-40f9-8767-eab271e5e732",
   "metadata": {},
   "outputs": [],
   "source": []
  },
  {
   "cell_type": "code",
   "execution_count": 4,
   "id": "9193eaa4-0acd-4a59-921a-ba41cba6a474",
   "metadata": {},
   "outputs": [
    {
     "data": {
      "text/plain": [
       "(542157, 4)"
      ]
     },
     "execution_count": 4,
     "metadata": {},
     "output_type": "execute_result"
    }
   ],
   "source": [
    "DataF.shape"
   ]
  },
  {
   "cell_type": "code",
   "execution_count": null,
   "id": "a2fe0da5-bb2c-41a7-b6db-50e6839c93ce",
   "metadata": {},
   "outputs": [],
   "source": []
  },
  {
   "cell_type": "code",
   "execution_count": 5,
   "id": "fd6462e3-7881-457d-9135-69195828c1b5",
   "metadata": {},
   "outputs": [
    {
     "name": "stdout",
     "output_type": "stream",
     "text": [
      "<class 'pandas.core.frame.DataFrame'>\n",
      "RangeIndex: 542157 entries, 0 to 542156\n",
      "Data columns (total 4 columns):\n",
      " #   Column          Non-Null Count   Dtype \n",
      "---  ------          --------------   ----- \n",
      " 0   user_id         542157 non-null  int64 \n",
      " 1   platform        542157 non-null  object\n",
      " 2   asset_id        542157 non-null  int64 \n",
      " 3   minutes_viewed  542157 non-null  int64 \n",
      "dtypes: int64(3), object(1)\n",
      "memory usage: 16.5+ MB\n"
     ]
    }
   ],
   "source": [
    "DataF.info()"
   ]
  },
  {
   "cell_type": "code",
   "execution_count": null,
   "id": "6c2d77f9-95e3-4b35-a311-5de2c931031e",
   "metadata": {},
   "outputs": [],
   "source": []
  },
  {
   "cell_type": "code",
   "execution_count": 6,
   "id": "d3f95c09-a2d5-4a83-ba4f-8443ccb4fbbf",
   "metadata": {},
   "outputs": [
    {
     "data": {
      "text/html": [
       "<div>\n",
       "<style scoped>\n",
       "    .dataframe tbody tr th:only-of-type {\n",
       "        vertical-align: middle;\n",
       "    }\n",
       "\n",
       "    .dataframe tbody tr th {\n",
       "        vertical-align: top;\n",
       "    }\n",
       "\n",
       "    .dataframe thead th {\n",
       "        text-align: right;\n",
       "    }\n",
       "</style>\n",
       "<table border=\"1\" class=\"dataframe\">\n",
       "  <thead>\n",
       "    <tr style=\"text-align: right;\">\n",
       "      <th></th>\n",
       "      <th>user_id</th>\n",
       "      <th>platform</th>\n",
       "      <th>asset_id</th>\n",
       "      <th>minutes_viewed</th>\n",
       "    </tr>\n",
       "  </thead>\n",
       "  <tbody>\n",
       "    <tr>\n",
       "      <th>0</th>\n",
       "      <td>False</td>\n",
       "      <td>False</td>\n",
       "      <td>False</td>\n",
       "      <td>False</td>\n",
       "    </tr>\n",
       "    <tr>\n",
       "      <th>1</th>\n",
       "      <td>False</td>\n",
       "      <td>False</td>\n",
       "      <td>False</td>\n",
       "      <td>False</td>\n",
       "    </tr>\n",
       "    <tr>\n",
       "      <th>2</th>\n",
       "      <td>False</td>\n",
       "      <td>False</td>\n",
       "      <td>False</td>\n",
       "      <td>False</td>\n",
       "    </tr>\n",
       "    <tr>\n",
       "      <th>3</th>\n",
       "      <td>False</td>\n",
       "      <td>False</td>\n",
       "      <td>False</td>\n",
       "      <td>False</td>\n",
       "    </tr>\n",
       "    <tr>\n",
       "      <th>4</th>\n",
       "      <td>False</td>\n",
       "      <td>False</td>\n",
       "      <td>False</td>\n",
       "      <td>False</td>\n",
       "    </tr>\n",
       "    <tr>\n",
       "      <th>...</th>\n",
       "      <td>...</td>\n",
       "      <td>...</td>\n",
       "      <td>...</td>\n",
       "      <td>...</td>\n",
       "    </tr>\n",
       "    <tr>\n",
       "      <th>542152</th>\n",
       "      <td>False</td>\n",
       "      <td>False</td>\n",
       "      <td>False</td>\n",
       "      <td>False</td>\n",
       "    </tr>\n",
       "    <tr>\n",
       "      <th>542153</th>\n",
       "      <td>False</td>\n",
       "      <td>False</td>\n",
       "      <td>False</td>\n",
       "      <td>False</td>\n",
       "    </tr>\n",
       "    <tr>\n",
       "      <th>542154</th>\n",
       "      <td>False</td>\n",
       "      <td>False</td>\n",
       "      <td>False</td>\n",
       "      <td>False</td>\n",
       "    </tr>\n",
       "    <tr>\n",
       "      <th>542155</th>\n",
       "      <td>False</td>\n",
       "      <td>False</td>\n",
       "      <td>False</td>\n",
       "      <td>False</td>\n",
       "    </tr>\n",
       "    <tr>\n",
       "      <th>542156</th>\n",
       "      <td>False</td>\n",
       "      <td>False</td>\n",
       "      <td>False</td>\n",
       "      <td>False</td>\n",
       "    </tr>\n",
       "  </tbody>\n",
       "</table>\n",
       "<p>542157 rows × 4 columns</p>\n",
       "</div>"
      ],
      "text/plain": [
       "        user_id  platform  asset_id  minutes_viewed\n",
       "0         False     False     False           False\n",
       "1         False     False     False           False\n",
       "2         False     False     False           False\n",
       "3         False     False     False           False\n",
       "4         False     False     False           False\n",
       "...         ...       ...       ...             ...\n",
       "542152    False     False     False           False\n",
       "542153    False     False     False           False\n",
       "542154    False     False     False           False\n",
       "542155    False     False     False           False\n",
       "542156    False     False     False           False\n",
       "\n",
       "[542157 rows x 4 columns]"
      ]
     },
     "execution_count": 6,
     "metadata": {},
     "output_type": "execute_result"
    }
   ],
   "source": [
    "DataF.isnull()"
   ]
  },
  {
   "cell_type": "code",
   "execution_count": null,
   "id": "0061aa8e-22a1-4d19-8a6d-6b7dcd6bf763",
   "metadata": {},
   "outputs": [],
   "source": []
  },
  {
   "cell_type": "code",
   "execution_count": 7,
   "id": "2a7e9167-ce6a-445a-b2b8-af27deae2684",
   "metadata": {},
   "outputs": [
    {
     "data": {
      "text/html": [
       "<div>\n",
       "<style scoped>\n",
       "    .dataframe tbody tr th:only-of-type {\n",
       "        vertical-align: middle;\n",
       "    }\n",
       "\n",
       "    .dataframe tbody tr th {\n",
       "        vertical-align: top;\n",
       "    }\n",
       "\n",
       "    .dataframe thead th {\n",
       "        text-align: right;\n",
       "    }\n",
       "</style>\n",
       "<table border=\"1\" class=\"dataframe\">\n",
       "  <thead>\n",
       "    <tr style=\"text-align: right;\">\n",
       "      <th></th>\n",
       "      <th>user_id</th>\n",
       "      <th>asset_id</th>\n",
       "      <th>minutes_viewed</th>\n",
       "    </tr>\n",
       "  </thead>\n",
       "  <tbody>\n",
       "    <tr>\n",
       "      <th>count</th>\n",
       "      <td>5.421570e+05</td>\n",
       "      <td>542157.000000</td>\n",
       "      <td>542157.000000</td>\n",
       "    </tr>\n",
       "    <tr>\n",
       "      <th>mean</th>\n",
       "      <td>8.558517e+11</td>\n",
       "      <td>9468.649867</td>\n",
       "      <td>34.057485</td>\n",
       "    </tr>\n",
       "    <tr>\n",
       "      <th>std</th>\n",
       "      <td>4.975313e+11</td>\n",
       "      <td>5131.634179</td>\n",
       "      <td>51.666177</td>\n",
       "    </tr>\n",
       "    <tr>\n",
       "      <th>min</th>\n",
       "      <td>1.000000e+00</td>\n",
       "      <td>1.000000</td>\n",
       "      <td>0.000000</td>\n",
       "    </tr>\n",
       "    <tr>\n",
       "      <th>25%</th>\n",
       "      <td>4.294967e+11</td>\n",
       "      <td>5267.000000</td>\n",
       "      <td>1.000000</td>\n",
       "    </tr>\n",
       "    <tr>\n",
       "      <th>50%</th>\n",
       "      <td>8.589935e+11</td>\n",
       "      <td>9383.000000</td>\n",
       "      <td>16.000000</td>\n",
       "    </tr>\n",
       "    <tr>\n",
       "      <th>75%</th>\n",
       "      <td>1.288490e+12</td>\n",
       "      <td>14370.000000</td>\n",
       "      <td>59.000000</td>\n",
       "    </tr>\n",
       "    <tr>\n",
       "      <th>max</th>\n",
       "      <td>1.709397e+12</td>\n",
       "      <td>17271.000000</td>\n",
       "      <td>18078.000000</td>\n",
       "    </tr>\n",
       "  </tbody>\n",
       "</table>\n",
       "</div>"
      ],
      "text/plain": [
       "            user_id       asset_id  minutes_viewed\n",
       "count  5.421570e+05  542157.000000   542157.000000\n",
       "mean   8.558517e+11    9468.649867       34.057485\n",
       "std    4.975313e+11    5131.634179       51.666177\n",
       "min    1.000000e+00       1.000000        0.000000\n",
       "25%    4.294967e+11    5267.000000        1.000000\n",
       "50%    8.589935e+11    9383.000000       16.000000\n",
       "75%    1.288490e+12   14370.000000       59.000000\n",
       "max    1.709397e+12   17271.000000    18078.000000"
      ]
     },
     "execution_count": 7,
     "metadata": {},
     "output_type": "execute_result"
    }
   ],
   "source": [
    "DataF.describe()"
   ]
  },
  {
   "cell_type": "code",
   "execution_count": null,
   "id": "c8643bba-77a8-456f-85a7-2fec98395a9b",
   "metadata": {},
   "outputs": [],
   "source": []
  },
  {
   "cell_type": "code",
   "execution_count": null,
   "id": "7dc0db6e-770c-4392-af95-6254437055eb",
   "metadata": {},
   "outputs": [],
   "source": [
    "DataF.mean()"
   ]
  },
  {
   "cell_type": "code",
   "execution_count": null,
   "id": "9d24ab2a-faa6-4964-8e48-03317a7d654a",
   "metadata": {},
   "outputs": [],
   "source": []
  },
  {
   "cell_type": "code",
   "execution_count": null,
   "id": "48dcf191-f477-4061-82bf-9825f69821c9",
   "metadata": {},
   "outputs": [],
   "source": [
    "DataF.median()"
   ]
  },
  {
   "cell_type": "code",
   "execution_count": null,
   "id": "a4ed50d3-b0cd-4f65-89ba-917ede68da70",
   "metadata": {},
   "outputs": [],
   "source": []
  },
  {
   "cell_type": "code",
   "execution_count": null,
   "id": "dfd20370-d6a3-4454-8d1c-b2e5c7d56ddc",
   "metadata": {},
   "outputs": [],
   "source": [
    "DataF.mode()"
   ]
  },
  {
   "cell_type": "code",
   "execution_count": null,
   "id": "47beed9d-c943-4dbe-a460-f8b798ab6f7a",
   "metadata": {},
   "outputs": [],
   "source": []
  },
  {
   "cell_type": "code",
   "execution_count": null,
   "id": "f9ddd7be-eb5b-4465-9d44-53fc15a8e888",
   "metadata": {},
   "outputs": [],
   "source": []
  },
  {
   "cell_type": "code",
   "execution_count": null,
   "id": "7ea258eb-2e91-4716-9f47-d578513341e1",
   "metadata": {},
   "outputs": [],
   "source": []
  },
  {
   "cell_type": "code",
   "execution_count": null,
   "id": "bbf2688a-cf15-4d3d-997c-d4bdfeae723c",
   "metadata": {},
   "outputs": [],
   "source": []
  }
 ],
 "metadata": {
  "kernelspec": {
   "display_name": "Python 3 (ipykernel)",
   "language": "python",
   "name": "python3"
  },
  "language_info": {
   "codemirror_mode": {
    "name": "ipython",
    "version": 3
   },
   "file_extension": ".py",
   "mimetype": "text/x-python",
   "name": "python",
   "nbconvert_exporter": "python",
   "pygments_lexer": "ipython3",
   "version": "3.13.2"
  }
 },
 "nbformat": 4,
 "nbformat_minor": 5
}
