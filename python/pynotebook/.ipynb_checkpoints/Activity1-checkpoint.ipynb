{
 "cells": [
  {
   "cell_type": "code",
   "execution_count": 2,
   "id": "ae601dfe-0708-4443-b60b-c9c3fa612a66",
   "metadata": {},
   "outputs": [],
   "source": [
    "import pandas as pd"
   ]
  },
  {
   "cell_type": "code",
   "execution_count": 18,
   "id": "c9dd6cac-a2f0-465b-bd4b-92083da03af6",
   "metadata": {},
   "outputs": [],
   "source": [
    "x = pd.read_csv(\"Inflation.csv\", header=0)"
   ]
  },
  {
   "cell_type": "code",
   "execution_count": 20,
   "id": "8251e2b7-52ef-4359-9a6e-1ec4fb207de7",
   "metadata": {},
   "outputs": [
    {
     "data": {
      "text/plain": [
       "<bound method DataFrame.count of    Year  Inflation Rate (%)\n",
       "0  2015                 1.2\n",
       "1  2016                 1.5\n",
       "2  2017                 2.1\n",
       "3  2018                 2.4\n",
       "4  2019                 1.8\n",
       "5  2020                 1.2\n",
       "6  2021                 3.0\n",
       "7  2022                 4.5\n",
       "8  2023                 6.2\n",
       "9  2024                 5.8>"
      ]
     },
     "execution_count": 20,
     "metadata": {},
     "output_type": "execute_result"
    }
   ],
   "source": [
    "x.count"
   ]
  },
  {
   "cell_type": "code",
   "execution_count": 12,
   "id": "67223094-e58c-4df5-b492-53f76a90575b",
   "metadata": {},
   "outputs": [
    {
     "data": {
      "text/html": [
       "<div>\n",
       "<style scoped>\n",
       "    .dataframe tbody tr th:only-of-type {\n",
       "        vertical-align: middle;\n",
       "    }\n",
       "\n",
       "    .dataframe tbody tr th {\n",
       "        vertical-align: top;\n",
       "    }\n",
       "\n",
       "    .dataframe thead th {\n",
       "        text-align: right;\n",
       "    }\n",
       "</style>\n",
       "<table border=\"1\" class=\"dataframe\">\n",
       "  <thead>\n",
       "    <tr style=\"text-align: right;\">\n",
       "      <th></th>\n",
       "      <th>Year</th>\n",
       "      <th>Inflation Rate (%)</th>\n",
       "    </tr>\n",
       "  </thead>\n",
       "  <tbody>\n",
       "    <tr>\n",
       "      <th>count</th>\n",
       "      <td>10.00000</td>\n",
       "      <td>10.000000</td>\n",
       "    </tr>\n",
       "    <tr>\n",
       "      <th>mean</th>\n",
       "      <td>2019.50000</td>\n",
       "      <td>2.970000</td>\n",
       "    </tr>\n",
       "    <tr>\n",
       "      <th>std</th>\n",
       "      <td>3.02765</td>\n",
       "      <td>1.875604</td>\n",
       "    </tr>\n",
       "    <tr>\n",
       "      <th>min</th>\n",
       "      <td>2015.00000</td>\n",
       "      <td>1.200000</td>\n",
       "    </tr>\n",
       "    <tr>\n",
       "      <th>25%</th>\n",
       "      <td>2017.25000</td>\n",
       "      <td>1.575000</td>\n",
       "    </tr>\n",
       "    <tr>\n",
       "      <th>50%</th>\n",
       "      <td>2019.50000</td>\n",
       "      <td>2.250000</td>\n",
       "    </tr>\n",
       "    <tr>\n",
       "      <th>75%</th>\n",
       "      <td>2021.75000</td>\n",
       "      <td>4.125000</td>\n",
       "    </tr>\n",
       "    <tr>\n",
       "      <th>max</th>\n",
       "      <td>2024.00000</td>\n",
       "      <td>6.200000</td>\n",
       "    </tr>\n",
       "  </tbody>\n",
       "</table>\n",
       "</div>"
      ],
      "text/plain": [
       "             Year  Inflation Rate (%)\n",
       "count    10.00000           10.000000\n",
       "mean   2019.50000            2.970000\n",
       "std       3.02765            1.875604\n",
       "min    2015.00000            1.200000\n",
       "25%    2017.25000            1.575000\n",
       "50%    2019.50000            2.250000\n",
       "75%    2021.75000            4.125000\n",
       "max    2024.00000            6.200000"
      ]
     },
     "execution_count": 12,
     "metadata": {},
     "output_type": "execute_result"
    }
   ],
   "source": [
    "x.describe()"
   ]
  },
  {
   "cell_type": "code",
   "execution_count": 13,
   "id": "7322b884-c2af-4a2b-80ef-9c42c71eee1a",
   "metadata": {},
   "outputs": [
    {
     "data": {
      "text/plain": [
       "Year                  2019.50\n",
       "Inflation Rate (%)       2.97\n",
       "dtype: float64"
      ]
     },
     "execution_count": 13,
     "metadata": {},
     "output_type": "execute_result"
    }
   ],
   "source": [
    "x.mean()"
   ]
  },
  {
   "cell_type": "code",
   "execution_count": 14,
   "id": "df7f53a6-2036-4731-8760-c6cfbb65346d",
   "metadata": {},
   "outputs": [
    {
     "data": {
      "text/plain": [
       "Year                  2015.0\n",
       "Inflation Rate (%)       1.2\n",
       "dtype: float64"
      ]
     },
     "execution_count": 14,
     "metadata": {},
     "output_type": "execute_result"
    }
   ],
   "source": [
    "x.min()"
   ]
  },
  {
   "cell_type": "code",
   "execution_count": 16,
   "id": "b9c5dc28-61fb-4771-a76f-417836fe4c7d",
   "metadata": {},
   "outputs": [],
   "source": [
    "x[\"Year\"] = x[\"Year\"].astype(int)"
   ]
  },
  {
   "cell_type": "code",
   "execution_count": 21,
   "id": "94073604-05c8-49df-9a9f-faca9333a996",
   "metadata": {},
   "outputs": [
    {
     "data": {
      "text/plain": [
       "Year                  2015.0\n",
       "Inflation Rate (%)       1.2\n",
       "dtype: float64"
      ]
     },
     "execution_count": 21,
     "metadata": {},
     "output_type": "execute_result"
    }
   ],
   "source": []
  },
  {
   "cell_type": "code",
   "execution_count": null,
   "id": "a89054f8-fe88-49e3-a795-f7bba75f1f09",
   "metadata": {},
   "outputs": [],
   "source": []
  }
 ],
 "metadata": {
  "kernelspec": {
   "display_name": "Python 3 (ipykernel)",
   "language": "python",
   "name": "python3"
  },
  "language_info": {
   "codemirror_mode": {
    "name": "ipython",
    "version": 3
   },
   "file_extension": ".py",
   "mimetype": "text/x-python",
   "name": "python",
   "nbconvert_exporter": "python",
   "pygments_lexer": "ipython3",
   "version": "3.13.2"
  }
 },
 "nbformat": 4,
 "nbformat_minor": 5
}
