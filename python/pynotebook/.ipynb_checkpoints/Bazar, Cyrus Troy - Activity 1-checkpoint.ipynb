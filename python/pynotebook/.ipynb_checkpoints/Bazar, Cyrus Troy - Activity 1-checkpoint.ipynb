{
 "cells": [
  {
   "cell_type": "code",
   "execution_count": null,
   "id": "fd7a1170-42ab-44fa-a3f6-9e2bc5331619",
   "metadata": {},
   "outputs": [],
   "source": [
    "# source code on myrepo https://github.com/AlieeLinux/data-science-topics"
   ]
  },
  {
   "cell_type": "code",
   "execution_count": 22,
   "id": "4bf14315-3cbf-4c16-81aa-ef25fd164088",
   "metadata": {},
   "outputs": [],
   "source": [
    "import pandas as pd"
   ]
  },
  {
   "cell_type": "code",
   "execution_count": 23,
   "id": "3a38fde6-7c1e-44d2-b291-4458046410f2",
   "metadata": {},
   "outputs": [],
   "source": [
    "DataFrame = pd.read_csv(\"Rooms.csv\")"
   ]
  },
  {
   "cell_type": "code",
   "execution_count": 24,
   "id": "09391f2b-bda5-4df6-afea-a7fc62dcfe5f",
   "metadata": {},
   "outputs": [
    {
     "data": {
      "text/html": [
       "<div>\n",
       "<style scoped>\n",
       "    .dataframe tbody tr th:only-of-type {\n",
       "        vertical-align: middle;\n",
       "    }\n",
       "\n",
       "    .dataframe tbody tr th {\n",
       "        vertical-align: top;\n",
       "    }\n",
       "\n",
       "    .dataframe thead th {\n",
       "        text-align: right;\n",
       "    }\n",
       "</style>\n",
       "<table border=\"1\" class=\"dataframe\">\n",
       "  <thead>\n",
       "    <tr style=\"text-align: right;\">\n",
       "      <th></th>\n",
       "      <th>Size(m2)</th>\n",
       "      <th>Land(m2)</th>\n",
       "      <th>Rooms</th>\n",
       "      <th>Granite</th>\n",
       "      <th>Extra Bathroom</th>\n",
       "      <th>Price</th>\n",
       "    </tr>\n",
       "  </thead>\n",
       "  <tbody>\n",
       "    <tr>\n",
       "      <th>count</th>\n",
       "      <td>7.000000</td>\n",
       "      <td>7.00000</td>\n",
       "      <td>7.000000</td>\n",
       "      <td>7.000000</td>\n",
       "      <td>7.000000</td>\n",
       "      <td>7.000000e+00</td>\n",
       "    </tr>\n",
       "    <tr>\n",
       "      <th>mean</th>\n",
       "      <td>954.857143</td>\n",
       "      <td>3593.00000</td>\n",
       "      <td>5.000000</td>\n",
       "      <td>0.428571</td>\n",
       "      <td>0.714286</td>\n",
       "      <td>4.145743e+08</td>\n",
       "    </tr>\n",
       "    <tr>\n",
       "      <th>std</th>\n",
       "      <td>199.590772</td>\n",
       "      <td>1219.30554</td>\n",
       "      <td>0.816497</td>\n",
       "      <td>0.534522</td>\n",
       "      <td>0.487950</td>\n",
       "      <td>9.884083e+07</td>\n",
       "    </tr>\n",
       "    <tr>\n",
       "      <th>min</th>\n",
       "      <td>671.000000</td>\n",
       "      <td>2801.00000</td>\n",
       "      <td>4.000000</td>\n",
       "      <td>0.000000</td>\n",
       "      <td>0.000000</td>\n",
       "      <td>3.121000e+08</td>\n",
       "    </tr>\n",
       "    <tr>\n",
       "      <th>25%</th>\n",
       "      <td>820.000000</td>\n",
       "      <td>2890.00000</td>\n",
       "      <td>4.500000</td>\n",
       "      <td>0.000000</td>\n",
       "      <td>0.500000</td>\n",
       "      <td>3.539500e+08</td>\n",
       "    </tr>\n",
       "    <tr>\n",
       "      <th>50%</th>\n",
       "      <td>990.000000</td>\n",
       "      <td>3067.00000</td>\n",
       "      <td>5.000000</td>\n",
       "      <td>0.000000</td>\n",
       "      <td>1.000000</td>\n",
       "      <td>3.871200e+08</td>\n",
       "    </tr>\n",
       "    <tr>\n",
       "      <th>75%</th>\n",
       "      <td>1077.000000</td>\n",
       "      <td>3704.50000</td>\n",
       "      <td>5.500000</td>\n",
       "      <td>1.000000</td>\n",
       "      <td>1.000000</td>\n",
       "      <td>4.459500e+08</td>\n",
       "    </tr>\n",
       "    <tr>\n",
       "      <th>max</th>\n",
       "      <td>1229.000000</td>\n",
       "      <td>6094.00000</td>\n",
       "      <td>6.000000</td>\n",
       "      <td>1.000000</td>\n",
       "      <td>1.000000</td>\n",
       "      <td>6.030000e+08</td>\n",
       "    </tr>\n",
       "  </tbody>\n",
       "</table>\n",
       "</div>"
      ],
      "text/plain": [
       "          Size(m2)    Land(m2)     Rooms   Granite  Extra Bathroom  \\\n",
       "count     7.000000     7.00000  7.000000  7.000000        7.000000   \n",
       "mean    954.857143  3593.00000  5.000000  0.428571        0.714286   \n",
       "std     199.590772  1219.30554  0.816497  0.534522        0.487950   \n",
       "min     671.000000  2801.00000  4.000000  0.000000        0.000000   \n",
       "25%     820.000000  2890.00000  4.500000  0.000000        0.500000   \n",
       "50%     990.000000  3067.00000  5.000000  0.000000        1.000000   \n",
       "75%    1077.000000  3704.50000  5.500000  1.000000        1.000000   \n",
       "max    1229.000000  6094.00000  6.000000  1.000000        1.000000   \n",
       "\n",
       "              Price  \n",
       "count  7.000000e+00  \n",
       "mean   4.145743e+08  \n",
       "std    9.884083e+07  \n",
       "min    3.121000e+08  \n",
       "25%    3.539500e+08  \n",
       "50%    3.871200e+08  \n",
       "75%    4.459500e+08  \n",
       "max    6.030000e+08  "
      ]
     },
     "execution_count": 24,
     "metadata": {},
     "output_type": "execute_result"
    }
   ],
   "source": [
    "DataFrame.describe()"
   ]
  },
  {
   "cell_type": "code",
   "execution_count": 30,
   "id": "b9aa5007-e56a-4bd4-9437-0e4c9c87602b",
   "metadata": {},
   "outputs": [],
   "source": [
    "# Lets Calculate Manually"
   ]
  },
  {
   "cell_type": "code",
   "execution_count": 31,
   "id": "30803917-ffc2-4442-8c8d-0221daec0ae6",
   "metadata": {},
   "outputs": [
    {
     "data": {
      "text/plain": [
       "Size(m2)          7\n",
       "Land(m2)          7\n",
       "Rooms             7\n",
       "Granite           7\n",
       "Extra Bathroom    7\n",
       "Price             7\n",
       "dtype: int64"
      ]
     },
     "execution_count": 31,
     "metadata": {},
     "output_type": "execute_result"
    }
   ],
   "source": [
    "DataFrame.count()"
   ]
  },
  {
   "cell_type": "code",
   "execution_count": 32,
   "id": "4c8f51d5-2ed1-4d61-9f2c-d4b86991fa18",
   "metadata": {},
   "outputs": [
    {
     "data": {
      "text/plain": [
       "Size(m2)                820.0\n",
       "Land(m2)               2890.0\n",
       "Rooms                     4.5\n",
       "Granite                   0.0\n",
       "Extra Bathroom            0.5\n",
       "Price             353950000.0\n",
       "Name: 0.25, dtype: float64"
      ]
     },
     "execution_count": 32,
     "metadata": {},
     "output_type": "execute_result"
    }
   ],
   "source": [
    "DataFrame.quantile(0.25)"
   ]
  },
  {
   "cell_type": "code",
   "execution_count": 33,
   "id": "5cb58a0f-a2ed-43a4-9be1-ddbbb11b0a95",
   "metadata": {},
   "outputs": [
    {
     "data": {
      "text/plain": [
       "Size(m2)                990.0\n",
       "Land(m2)               3067.0\n",
       "Rooms                     5.0\n",
       "Granite                   0.0\n",
       "Extra Bathroom            1.0\n",
       "Price             387120000.0\n",
       "Name: 0.5, dtype: float64"
      ]
     },
     "execution_count": 33,
     "metadata": {},
     "output_type": "execute_result"
    }
   ],
   "source": [
    "DataFrame.quantile(0.5)"
   ]
  },
  {
   "cell_type": "code",
   "execution_count": 34,
   "id": "7a75ded9-2d3b-4126-aecf-67374abfb0a8",
   "metadata": {},
   "outputs": [
    {
     "data": {
      "text/plain": [
       "Size(m2)               1077.0\n",
       "Land(m2)               3704.5\n",
       "Rooms                     5.5\n",
       "Granite                   1.0\n",
       "Extra Bathroom            1.0\n",
       "Price             445950000.0\n",
       "Name: 0.75, dtype: float64"
      ]
     },
     "execution_count": 34,
     "metadata": {},
     "output_type": "execute_result"
    }
   ],
   "source": [
    "DataFrame.quantile(0.75)"
   ]
  },
  {
   "cell_type": "code",
   "execution_count": 35,
   "id": "4488d009-9a31-49b5-b0de-e63df95ffd9a",
   "metadata": {},
   "outputs": [
    {
     "data": {
      "text/plain": [
       "Size(m2)          1.995908e+02\n",
       "Land(m2)          1.219306e+03\n",
       "Rooms             8.164966e-01\n",
       "Granite           5.345225e-01\n",
       "Extra Bathroom    4.879500e-01\n",
       "Price             9.884083e+07\n",
       "dtype: float64"
      ]
     },
     "execution_count": 35,
     "metadata": {},
     "output_type": "execute_result"
    }
   ],
   "source": [
    "DataFrame.std()"
   ]
  },
  {
   "cell_type": "code",
   "execution_count": 36,
   "id": "4c185958-8ede-4bee-ba4c-c66db441df8c",
   "metadata": {},
   "outputs": [
    {
     "data": {
      "text/plain": [
       "Size(m2)               1229\n",
       "Land(m2)               6094\n",
       "Rooms                     6\n",
       "Granite                   1\n",
       "Extra Bathroom            1\n",
       "Price             603000000\n",
       "dtype: int64"
      ]
     },
     "execution_count": 36,
     "metadata": {},
     "output_type": "execute_result"
    }
   ],
   "source": [
    "DataFrame.max()"
   ]
  },
  {
   "cell_type": "code",
   "execution_count": 37,
   "id": "8216f609-b1ad-4027-9ba5-ef9ae08b1797",
   "metadata": {},
   "outputs": [
    {
     "data": {
      "text/plain": [
       "Size(m2)                671\n",
       "Land(m2)               2801\n",
       "Rooms                     4\n",
       "Granite                   0\n",
       "Extra Bathroom            0\n",
       "Price             312100000\n",
       "dtype: int64"
      ]
     },
     "execution_count": 37,
     "metadata": {},
     "output_type": "execute_result"
    }
   ],
   "source": [
    "DataFrame.min()"
   ]
  },
  {
   "cell_type": "code",
   "execution_count": 38,
   "id": "fec4bc94-274f-46e3-9a31-ec0323396884",
   "metadata": {},
   "outputs": [
    {
     "data": {
      "text/plain": [
       "Size(m2)          9.548571e+02\n",
       "Land(m2)          3.593000e+03\n",
       "Rooms             5.000000e+00\n",
       "Granite           4.285714e-01\n",
       "Extra Bathroom    7.142857e-01\n",
       "Price             4.145743e+08\n",
       "dtype: float64"
      ]
     },
     "execution_count": 38,
     "metadata": {},
     "output_type": "execute_result"
    }
   ],
   "source": [
    "DataFrame.mean()"
   ]
  },
  {
   "cell_type": "code",
   "execution_count": 39,
   "id": "3755a755-865b-4341-b5a5-15ecadfc73b7",
   "metadata": {},
   "outputs": [
    {
     "data": {
      "text/plain": [
       "Size(m2)                990.0\n",
       "Land(m2)               3067.0\n",
       "Rooms                     5.0\n",
       "Granite                   0.0\n",
       "Extra Bathroom            1.0\n",
       "Price             387120000.0\n",
       "dtype: float64"
      ]
     },
     "execution_count": 39,
     "metadata": {},
     "output_type": "execute_result"
    }
   ],
   "source": [
    "DataFrame.median()"
   ]
  },
  {
   "cell_type": "code",
   "execution_count": 40,
   "id": "2cef4ec6-3882-41e2-b232-31c5d8275a8f",
   "metadata": {},
   "outputs": [
    {
     "data": {
      "text/html": [
       "<div>\n",
       "<style scoped>\n",
       "    .dataframe tbody tr th:only-of-type {\n",
       "        vertical-align: middle;\n",
       "    }\n",
       "\n",
       "    .dataframe tbody tr th {\n",
       "        vertical-align: top;\n",
       "    }\n",
       "\n",
       "    .dataframe thead th {\n",
       "        text-align: right;\n",
       "    }\n",
       "</style>\n",
       "<table border=\"1\" class=\"dataframe\">\n",
       "  <thead>\n",
       "    <tr style=\"text-align: right;\">\n",
       "      <th></th>\n",
       "      <th>Size(m2)</th>\n",
       "      <th>Land(m2)</th>\n",
       "      <th>Rooms</th>\n",
       "      <th>Granite</th>\n",
       "      <th>Extra Bathroom</th>\n",
       "      <th>Price</th>\n",
       "    </tr>\n",
       "  </thead>\n",
       "  <tbody>\n",
       "    <tr>\n",
       "      <th>0</th>\n",
       "      <td>671</td>\n",
       "      <td>2801</td>\n",
       "      <td>5.0</td>\n",
       "      <td>0.0</td>\n",
       "      <td>1.0</td>\n",
       "      <td>312100000</td>\n",
       "    </tr>\n",
       "    <tr>\n",
       "      <th>1</th>\n",
       "      <td>731</td>\n",
       "      <td>2854</td>\n",
       "      <td>NaN</td>\n",
       "      <td>NaN</td>\n",
       "      <td>NaN</td>\n",
       "      <td>324500000</td>\n",
       "    </tr>\n",
       "    <tr>\n",
       "      <th>2</th>\n",
       "      <td>909</td>\n",
       "      <td>2926</td>\n",
       "      <td>NaN</td>\n",
       "      <td>NaN</td>\n",
       "      <td>NaN</td>\n",
       "      <td>383400000</td>\n",
       "    </tr>\n",
       "    <tr>\n",
       "      <th>3</th>\n",
       "      <td>990</td>\n",
       "      <td>3067</td>\n",
       "      <td>NaN</td>\n",
       "      <td>NaN</td>\n",
       "      <td>NaN</td>\n",
       "      <td>387120000</td>\n",
       "    </tr>\n",
       "    <tr>\n",
       "      <th>4</th>\n",
       "      <td>1076</td>\n",
       "      <td>3094</td>\n",
       "      <td>NaN</td>\n",
       "      <td>NaN</td>\n",
       "      <td>NaN</td>\n",
       "      <td>425900000</td>\n",
       "    </tr>\n",
       "    <tr>\n",
       "      <th>5</th>\n",
       "      <td>1078</td>\n",
       "      <td>4315</td>\n",
       "      <td>NaN</td>\n",
       "      <td>NaN</td>\n",
       "      <td>NaN</td>\n",
       "      <td>466000000</td>\n",
       "    </tr>\n",
       "    <tr>\n",
       "      <th>6</th>\n",
       "      <td>1229</td>\n",
       "      <td>6094</td>\n",
       "      <td>NaN</td>\n",
       "      <td>NaN</td>\n",
       "      <td>NaN</td>\n",
       "      <td>603000000</td>\n",
       "    </tr>\n",
       "  </tbody>\n",
       "</table>\n",
       "</div>"
      ],
      "text/plain": [
       "   Size(m2)  Land(m2)  Rooms  Granite  Extra Bathroom      Price\n",
       "0       671      2801    5.0      0.0             1.0  312100000\n",
       "1       731      2854    NaN      NaN             NaN  324500000\n",
       "2       909      2926    NaN      NaN             NaN  383400000\n",
       "3       990      3067    NaN      NaN             NaN  387120000\n",
       "4      1076      3094    NaN      NaN             NaN  425900000\n",
       "5      1078      4315    NaN      NaN             NaN  466000000\n",
       "6      1229      6094    NaN      NaN             NaN  603000000"
      ]
     },
     "execution_count": 40,
     "metadata": {},
     "output_type": "execute_result"
    }
   ],
   "source": [
    "DataFrame.mode()"
   ]
  },
  {
   "cell_type": "code",
   "execution_count": null,
   "id": "1efea758-73db-4af5-912c-47166ffb8580",
   "metadata": {},
   "outputs": [],
   "source": []
  },
  {
   "cell_type": "code",
   "execution_count": null,
   "id": "bb534f43-03c1-4c03-9e43-457273044742",
   "metadata": {},
   "outputs": [],
   "source": []
  },
  {
   "cell_type": "code",
   "execution_count": null,
   "id": "a9203990-a562-4653-b58a-9e3a7fb02e16",
   "metadata": {},
   "outputs": [],
   "source": []
  }
 ],
 "metadata": {
  "kernelspec": {
   "display_name": "Python 3 (ipykernel)",
   "language": "python",
   "name": "python3"
  },
  "language_info": {
   "codemirror_mode": {
    "name": "ipython",
    "version": 3
   },
   "file_extension": ".py",
   "mimetype": "text/x-python",
   "name": "python",
   "nbconvert_exporter": "python",
   "pygments_lexer": "ipython3",
   "version": "3.13.2"
  }
 },
 "nbformat": 4,
 "nbformat_minor": 5
}
